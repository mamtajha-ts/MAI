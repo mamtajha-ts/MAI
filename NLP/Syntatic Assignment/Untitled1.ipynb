{
 "cells": [
  {
   "cell_type": "code",
   "execution_count": 6,
   "metadata": {},
   "outputs": [],
   "source": [
    "#Importing required libraries\n",
    "import nltk\n",
    "import nltk, re, pprint\n",
    "import numpy as np\n",
    "import pandas as pd\n",
    "import requests\n",
    "import matplotlib.pyplot as plt\n",
    "import seaborn as sns\n",
    "import pprint, time\n",
    "import random\n",
    "from sklearn.model_selection import train_test_split\n",
    "from nltk.tokenize import word_tokenize"
   ]
  },
  {
   "cell_type": "code",
   "execution_count": 7,
   "metadata": {},
   "outputs": [],
   "source": [
    "#reading the Treebank tagged sentences\n",
    "nltk_data = list(nltk.corpus.treebank.tagged_sents(tagset='universal'))"
   ]
  },
  {
   "cell_type": "code",
   "execution_count": 16,
   "metadata": {},
   "outputs": [
    {
     "name": "stdout",
     "output_type": "stream",
     "text": [
      "3718\n",
      "196\n",
      "[[('January', 'NOUN'), ('platinum', 'NOUN'), ('was', 'VERB'), ('down', 'ADP'), ('$', '.'), ('5.70', 'NUM'), ('*U*', 'X'), ('an', 'DET'), ('ounce', 'NOUN'), ('at', 'ADP'), ('$', '.'), ('494.50', 'NUM'), ('*U*', 'X'), ('.', '.')], [('The', 'DET'), ('spokesman', 'NOUN'), ('said', 'VERB'), ('0', 'X'), ('it', 'PRON'), ('is', 'VERB'), ('the', 'DET'), ('first', 'ADV'), ('early', 'ADJ'), ('retirement', 'NOUN'), ('plan', 'NOUN'), ('offered', 'VERB'), ('under', 'ADP'), ('its', 'PRON'), ('two-year', 'ADJ'), ('cost-control', 'ADJ'), ('strategy', 'NOUN'), ('.', '.')], [('To', 'PRT'), ('the', 'DET'), ('astonishment', 'NOUN'), ('and', 'CONJ'), ('dismay', 'NOUN'), ('of', 'ADP'), ('her', 'PRON'), ('superiors', 'NOUN'), ('and', 'CONJ'), ('legal', 'ADJ'), ('authorities', 'NOUN'), ('--', '.'), ('and', 'ADJ'), ('perhaps', 'ADV'), ('as', 'ADP'), ('a', 'DET'), ('measure', 'NOUN'), ('of', 'ADP'), ('the', 'DET'), ('unpopularity', 'NOUN'), ('of', 'ADP'), ('standardized', 'ADJ'), ('tests', 'NOUN'), ('--', '.'), ('Mrs', 'NOUN'), ('.', '.'), ('Yeargin', 'NOUN'), ('won', 'VERB'), ('widespread', 'ADJ'), ('local', 'ADJ'), ('support', 'NOUN'), ('.', '.')], [('In', 'ADP'), ('the', 'DET'), ('aftermath', 'NOUN'), ('of', 'ADP'), ('the', 'DET'), ('stock', 'NOUN'), ('market', 'NOUN'), (\"'s\", 'PRT'), ('gut-wrenching', 'ADJ'), ('190-point', 'ADJ'), ('drop', 'NOUN'), ('on', 'ADP'), ('Oct.', 'NOUN'), ('13', 'NUM'), (',', '.'), ('Kidder', 'NOUN'), (',', '.'), ('Peabody', 'NOUN'), ('&', 'CONJ'), ('Co.', 'NOUN'), (\"'s\", 'PRT'), ('1,400', 'NUM'), ('stockbrokers', 'NOUN'), ('across', 'ADP'), ('the', 'DET'), ('country', 'NOUN'), ('began', 'VERB'), ('a', 'DET'), ('telephone', 'NOUN'), ('and', 'CONJ'), ('letter-writing', 'ADJ'), ('campaign', 'NOUN'), ('aimed', 'VERB'), ('*', 'X'), ('at', 'ADP'), ('*', 'X'), ('quashing', 'VERB'), ('the', 'DET'), ('country', 'NOUN'), (\"'s\", 'PRT'), ('second-largest', 'ADJ'), ('program', 'NOUN'), ('trader', 'NOUN'), ('.', '.')], [('*-2', 'X'), ('Used', 'VERB'), ('*-1', 'X'), ('by', 'ADP'), ('program', 'NOUN'), ('traders', 'NOUN'), ('and', 'CONJ'), ('others', 'NOUN'), ('*', 'X'), ('to', 'PRT'), ('zip', 'VERB'), ('orders', 'NOUN'), ('into', 'ADP'), ('the', 'DET'), ('exchange', 'NOUN'), (',', '.'), ('SuperDot', 'NOUN'), ('handles', 'VERB'), ('about', 'ADP'), ('80', 'NUM'), ('%', 'NOUN'), ('of', 'ADP'), ('all', 'DET'), ('orders', 'NOUN'), ('entered', 'VERB'), ('*', 'X'), ('at', 'ADP'), ('the', 'DET'), ('exchange', 'NOUN'), ('.', '.')], [('The', 'DET'), ('Los', 'NOUN'), ('Angeles', 'NOUN'), ('County', 'NOUN'), ('district', 'NOUN'), ('attorney', 'NOUN'), (\"'s\", 'PRT'), ('office', 'NOUN'), ('filed', 'VERB'), ('seven', 'NUM'), ('felony', 'NOUN'), ('and', 'CONJ'), ('five', 'NUM'), ('misdemeanor', 'NOUN'), ('counts', 'NOUN'), ('charging', 'VERB'), ('that', 'ADP'), ('late', 'ADJ'), ('last', 'ADJ'), ('year', 'NOUN'), ('and', 'CONJ'), ('early', 'ADV'), ('this', 'DET'), ('year', 'NOUN'), ('the', 'DET'), ('Irvine', 'NOUN'), (',', '.'), ('Calif.-based', 'ADJ'), ('circuit-board', 'NOUN'), ('manufacturer', 'NOUN'), ('illegally', 'ADV'), ('disposed', 'VERB'), ('of', 'ADP'), ('acid', 'NOUN'), (',', '.'), ('caustic', 'ADJ'), ('and', 'CONJ'), ('heavy', 'ADJ'), ('metals', 'NOUN'), ('into', 'ADP'), ('the', 'DET'), ('sewer', 'NOUN'), ('system', 'NOUN'), (',', '.'), ('and', 'CONJ'), ('stored', 'VERB'), ('hazardous', 'ADJ'), ('materials', 'NOUN'), ('in', 'ADP'), ('leaky', 'ADJ'), (',', '.'), ('unlabeled', 'ADJ'), ('or', 'CONJ'), ('open-top', 'ADJ'), ('containers', 'NOUN'), ('.', '.')], [('That', 'DET'), ('sounds', 'VERB'), ('neat', 'ADJ'), (',', '.'), ('but', 'CONJ'), ('this', 'DET'), ('government', 'NOUN'), ('--', '.'), ('any', 'DET'), ('government', 'NOUN'), ('--', '.'), ('propagandizes', 'VERB'), ('its', 'PRON'), ('own', 'ADJ'), ('people', 'NOUN'), ('every', 'DET'), ('day', 'NOUN'), ('.', '.')], [('In', 'ADP'), ('some', 'DET'), ('cases', 'NOUN'), (',', '.'), ('the', 'DET'), ('IRS', 'NOUN'), ('asked', 'VERB'), ('for', 'ADP'), ('information', 'NOUN'), ('dating', 'VERB'), ('back', 'ADV'), ('to', 'PRT'), ('forms', 'NOUN'), ('0', 'X'), ('it', 'PRON'), ('received', 'VERB'), ('*T*-1', 'X'), ('in', 'ADP'), ('1985', 'NUM'), ('.', '.')], [('An', 'DET'), ('equal', 'ADJ'), ('number', 'NOUN'), ('in', 'ADP'), ('each', 'DET'), ('month', 'NOUN'), ('said', 'VERB'), ('that', 'ADP'), ('employment', 'NOUN'), ('conditions', 'NOUN'), ('were', 'VERB'), ('good', 'ADJ'), ('.', '.')], [('One', 'NUM'), ('of', 'ADP'), ('the', 'DET'), ('fastest', 'ADJ'), ('growing', 'VERB'), ('segments', 'NOUN'), ('of', 'ADP'), ('the', 'DET'), ('wine', 'NOUN'), ('market', 'NOUN'), ('is', 'VERB'), ('the', 'DET'), ('category', 'NOUN'), ('of', 'ADP'), ('superpremiums', 'NOUN'), ('--', '.'), ('wines', 'NOUN'), ('limited', 'VERB'), ('*', 'X'), ('in', 'ADP'), ('production', 'NOUN'), (',', '.'), ('of', 'ADP'), ('exceptional', 'ADJ'), ('quality', 'NOUN'), ('-LRB-', '.'), ('or', 'CONJ'), ('so', 'ADV'), ('perceived', 'VERB'), ('*', 'X'), (',', '.'), ('at', 'ADP'), ('any', 'DET'), ('rate', 'NOUN'), ('-RRB-', '.'), (',', '.'), ('and', 'CONJ'), ('with', 'ADP'), ('exceedingly', 'ADV'), ('high', 'ADJ'), ('prices', 'NOUN'), ('.', '.')]]\n"
     ]
    }
   ],
   "source": [
    "#Splitting the corpus into train and test,checking the lenght of each set and printing the first 10 sentences in train set\n",
    "random.seed(1234)\n",
    "train_set, test_set = train_test_split(nltk_data,test_size=0.05)\n",
    "\n",
    "print(len(train_set))\n",
    "print(len(test_set))\n",
    "print(train_set[:10])"
   ]
  },
  {
   "cell_type": "code",
   "execution_count": 17,
   "metadata": {},
   "outputs": [
    {
     "data": {
      "text/plain": [
       "95478"
      ]
     },
     "execution_count": 17,
     "metadata": {},
     "output_type": "execute_result"
    }
   ],
   "source": [
    "# Get the list of tagged words from train set\n",
    "train_tagged_words = [tup for sent in train_set for tup in sent]\n",
    "len(train_tagged_words)"
   ]
  },
  {
   "cell_type": "code",
   "execution_count": 19,
   "metadata": {},
   "outputs": [
    {
     "ename": "NameError",
     "evalue": "name 'vocab' is not defined",
     "output_type": "error",
     "traceback": [
      "\u001b[1;31m---------------------------------------------------------------------------\u001b[0m",
      "\u001b[1;31mNameError\u001b[0m                                 Traceback (most recent call last)",
      "\u001b[1;32m<ipython-input-19-a9c9783485a3>\u001b[0m in \u001b[0;36m<module>\u001b[1;34m()\u001b[0m\n\u001b[1;32m----> 1\u001b[1;33m \u001b[0mlen\u001b[0m\u001b[1;33m(\u001b[0m\u001b[0mvocab\u001b[0m\u001b[1;33m)\u001b[0m\u001b[1;33m\u001b[0m\u001b[0m\n\u001b[0m",
      "\u001b[1;31mNameError\u001b[0m: name 'vocab' is not defined"
     ]
    }
   ],
   "source": [
    "len(vocab)"
   ]
  },
  {
   "cell_type": "code",
   "execution_count": 18,
   "metadata": {},
   "outputs": [
    {
     "ename": "SyntaxError",
     "evalue": "non-default argument follows default argument (<ipython-input-18-41c0f5b3716d>, line 1)",
     "output_type": "error",
     "traceback": [
      "\u001b[1;36m  File \u001b[1;32m\"<ipython-input-18-41c0f5b3716d>\"\u001b[1;36m, line \u001b[1;32m1\u001b[0m\n\u001b[1;33m    def viterbi(vocab, vocab_tag, words, tags = train_tagged_words, t_bigram_count, t_unigram_count, e_bigram_count, e_unigram_count, ADD_K):\u001b[0m\n\u001b[1;37m               ^\u001b[0m\n\u001b[1;31mSyntaxError\u001b[0m\u001b[1;31m:\u001b[0m non-default argument follows default argument\n"
     ]
    }
   ],
   "source": [
    "def viterbi(vocab, vocab_tag, words, tags = train_tagged_words, t_bigram_count, t_unigram_count, e_bigram_count, e_unigram_count, ADD_K):\n",
    "    vocab_size = len(vocab)\n",
    "    V = [{}]\n",
    "\n",
    "    for t in vocab_tag:\n",
    "        # Prob of very first word\n",
    "        prob = np.log2(float(e_bigram_count.get((words[0],t),0)+ADD_K))-np.log2(float(e_unigram_count[t]+vocab_size*ADD_K))\n",
    "        # trigram V[0][0]\n",
    "        V[0][t] = {\"prob\": prob, \"prev\": None}\n",
    "\n",
    "    for i in range(1,len(words)):\n",
    "        V.append({})\n",
    "        for t in vocab_tag:\n",
    "            V[i][t] =  {\"prob\": np.log2(0), \"prev\": None}\n",
    "        for t in vocab_tag:\n",
    "            max_trans_prob = np.log2(0);\n",
    "            for prev_tag in vocab_tag:\n",
    "                trans_prob = np.log2(float(t_bigram_count.get((t, prev_tag),0)+ADD_K))-np.log2(float(t_unigram_count[prev_tag]+vocab_size*ADD_K))   \n",
    "                if V[i-1][prev_tag][\"prob\"]+trans_prob > max_trans_prob:\n",
    "                    max_trans_prob = V[i-1][prev_tag][\"prob\"]+trans_prob \n",
    "                    max_prob = max_trans_prob+np.log2(e_bigram_count.get((words[i],t),0)+ADD_K)-np.log2(float(e_unigram_count[t]+vocab_size*ADD_K))\n",
    "                    V[i][t] = {\"prob\": max_prob, \"prev\": prev_tag}\n",
    "    opt = []\n",
    "    previous = None \n",
    "    max_prob = max(value[\"prob\"] for value in V[-1].values())\n",
    "    # Get most probable state and its backtrack\n",
    "    for st, data in V[-1].items():\n",
    "        if data[\"prob\"] == max_prob:\n",
    "            opt.append(st)\n",
    "            previous = st\n",
    "            break\n",
    "    for t in range(len(V) - 2, -1, -1):\n",
    "        opt.insert(0, V[t + 1][previous][\"prev\"])\n",
    "        previous = V[t][previous][\"prev\"]\n",
    "    return opt"
   ]
  },
  {
   "cell_type": "code",
   "execution_count": null,
   "metadata": {},
   "outputs": [],
   "source": []
  },
  {
   "cell_type": "code",
   "execution_count": null,
   "metadata": {},
   "outputs": [],
   "source": []
  },
  {
   "cell_type": "code",
   "execution_count": null,
   "metadata": {},
   "outputs": [],
   "source": []
  },
  {
   "cell_type": "code",
   "execution_count": null,
   "metadata": {},
   "outputs": [],
   "source": []
  }
 ],
 "metadata": {
  "kernelspec": {
   "display_name": "Python 3",
   "language": "python",
   "name": "python3"
  }
 },
 "nbformat": 4,
 "nbformat_minor": 2
}
