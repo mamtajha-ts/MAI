{
 "cells": [
  {
   "cell_type": "code",
   "execution_count": 2,
   "metadata": {},
   "outputs": [
    {
     "name": "stdout",
     "output_type": "stream",
     "text": [
      "--- FULL ---\n",
      "s:\n",
      " [17.321 17.321 17.321  0.     0.     0.     0.     0.     0.   ]\n",
      "(12, 12)\n",
      "(9,)\n",
      "(9, 9)\n"
     ]
    }
   ],
   "source": [
    "# Singular Value Decomposition Example\n",
    "import pandas as pd\n",
    "import numpy as np\n",
    "from sklearn.svm import SVC\n",
    "from sklearn.model_selection import train_test_split\n",
    "from sklearn import metrics\n",
    "from sklearn.metrics import confusion_matrix\n",
    "from sklearn.model_selection import KFold\n",
    "from sklearn.model_selection import cross_val_score\n",
    "from sklearn.model_selection import GridSearchCV\n",
    "import matplotlib.pyplot as plt\n",
    "import seaborn as sns\n",
    "from sklearn.preprocessing import scale\n",
    "\n",
    "import numpy as np\n",
    "\n",
    "##myfoodratings = pd.read_csv(\"MyFoodRatings.csv\",  sep = ',', header= None )\n",
    "\n",
    "# example taken from Video Tutorials - All in One\n",
    "# https://www.youtube.com/watch?v=P5mlg91as1c\n",
    "a = np.array([[5,5,5,0,0,0,0,0,0],\n",
    "              [5,5,5,0,0,0,0,0,0],\n",
    "              [5,5,5,0,0,0,0,0,0],\n",
    "              [5,5,5,0,0,0,0,0,0],\n",
    "              [0,0,0,5,5,5,0,0,0],\n",
    "              [0,0,0,5,5,5,0,0,0],\n",
    "              [0,0,0,5,5,5,0,0,0],\n",
    "              [0,0,0,5,5,5,0,0,0],\n",
    "              [0,0,0,0,0,0,5,5,5],\n",
    "              [0,0,0,0,0,0,5,5,5],\n",
    "              [0,0,0,0,0,0,5,5,5],\n",
    "              [0,0,0,0,0,0,5,5,5]])\n",
    "\n",
    "# set numpy printing options\n",
    "np.set_printoptions(suppress=True)\n",
    "np.set_printoptions(precision=3)\n",
    "\n",
    "# Full SVD is taught more often. Here is a good explination of the different\n",
    "# http://www.cs.cornell.edu/Courses/cs322/2008sp/stuff/TrefethenBau_Lec4_SVD.pdf\n",
    "print( \"--- FULL ---\")\n",
    "U, s, VT = np.linalg.svd(a, full_matrices=True)\n",
    "\n",
    "#print( \"U:\\n {}\".format(U))\n",
    "print(\"s:\\n {}\".format(s))\n",
    "#print( \"VT:\\n {}\".format(VT))\n",
    "\n",
    "print(U.shape)\n",
    "print(s.shape)\n",
    "print(VT.shape)\n",
    "\n",
    "#print(np.diag(s[:3]))\n"
   ]
  },
  {
   "cell_type": "code",
   "execution_count": null,
   "metadata": {},
   "outputs": [],
   "source": []
  },
  {
   "cell_type": "code",
   "execution_count": null,
   "metadata": {},
   "outputs": [],
   "source": []
  }
 ],
 "metadata": {
  "kernelspec": {
   "display_name": "Python 3",
   "language": "python",
   "name": "python3"
  },
  "language_info": {
   "codemirror_mode": {
    "name": "ipython",
    "version": 3
   },
   "file_extension": ".py",
   "mimetype": "text/x-python",
   "name": "python",
   "nbconvert_exporter": "python",
   "pygments_lexer": "ipython3",
   "version": "3.6.4"
  }
 },
 "nbformat": 4,
 "nbformat_minor": 2
}
